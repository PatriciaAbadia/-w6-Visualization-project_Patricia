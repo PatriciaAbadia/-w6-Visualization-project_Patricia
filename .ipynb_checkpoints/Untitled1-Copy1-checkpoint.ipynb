{
 "cells": [
  {
   "cell_type": "code",
   "execution_count": 53,
   "id": "4c41cd1c",
   "metadata": {},
   "outputs": [],
   "source": [
    "a=4\n",
    "b=3"
   ]
  },
  {
   "cell_type": "code",
   "execution_count": 54,
   "id": "ed6a5448",
   "metadata": {},
   "outputs": [],
   "source": [
    "x=range(a*b)"
   ]
  },
  {
   "cell_type": "code",
   "execution_count": 55,
   "id": "c54d305a",
   "metadata": {},
   "outputs": [
    {
     "data": {
      "text/plain": [
       "range(0, 12)"
      ]
     },
     "execution_count": 55,
     "metadata": {},
     "output_type": "execute_result"
    }
   ],
   "source": [
    "x"
   ]
  },
  {
   "cell_type": "code",
   "execution_count": 56,
   "id": "35248daf",
   "metadata": {},
   "outputs": [
    {
     "data": {
      "text/plain": [
       "7"
      ]
     },
     "execution_count": 56,
     "metadata": {},
     "output_type": "execute_result"
    }
   ],
   "source": [
    "string='Hola tu'\n",
    "len(string)"
   ]
  },
  {
   "cell_type": "code",
   "execution_count": 57,
   "id": "f3f959e3",
   "metadata": {},
   "outputs": [],
   "source": [
    "y=[]\n",
    "for i in string:\n",
    "    if len(y)<=b:\n",
    "        y.append(i)\n",
    "    else:\n",
    "        if len(y)y.append('\\n'+str(i))\n",
    "        "
   ]
  },
  {
   "cell_type": "code",
   "execution_count": 58,
   "id": "e3132443",
   "metadata": {},
   "outputs": [
    {
     "name": "stdout",
     "output_type": "stream",
     "text": [
      "['H', 'o', 'l', 'a', '\\n ', '\\nt', '\\nu']\n"
     ]
    }
   ],
   "source": [
    "print(y)"
   ]
  },
  {
   "cell_type": "code",
   "execution_count": 22,
   "id": "01ba4c6f",
   "metadata": {},
   "outputs": [],
   "source": [
    "z=[]\n",
    "for j in range(b):\n",
    "    z.append(j)"
   ]
  },
  {
   "cell_type": "code",
   "execution_count": 23,
   "id": "cce95f27",
   "metadata": {},
   "outputs": [
    {
     "data": {
      "text/plain": [
       "[0, 1, 2, 3, 4, 5]"
      ]
     },
     "execution_count": 23,
     "metadata": {},
     "output_type": "execute_result"
    }
   ],
   "source": [
    "z"
   ]
  },
  {
   "cell_type": "code",
   "execution_count": null,
   "id": "7fd19bcf",
   "metadata": {},
   "outputs": [],
   "source": []
  }
 ],
 "metadata": {
  "kernelspec": {
   "display_name": "Python 3 (ipykernel)",
   "language": "python",
   "name": "python3"
  },
  "language_info": {
   "codemirror_mode": {
    "name": "ipython",
    "version": 3
   },
   "file_extension": ".py",
   "mimetype": "text/x-python",
   "name": "python",
   "nbconvert_exporter": "python",
   "pygments_lexer": "ipython3",
   "version": "3.9.7"
  }
 },
 "nbformat": 4,
 "nbformat_minor": 5
}
